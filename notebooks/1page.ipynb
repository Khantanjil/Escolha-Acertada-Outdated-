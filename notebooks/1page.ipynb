{
 "cells": [
  {
   "cell_type": "code",
   "execution_count": 1,
   "metadata": {},
   "outputs": [],
   "source": [
    "import requests\n",
    "from bs4 import BeautifulSoup"
   ]
  },
  {
   "cell_type": "code",
   "execution_count": 2,
   "metadata": {},
   "outputs": [],
   "source": [
    "r = requests.get(\"http://www.escolhaacertada.pt/pt-PT/Imoveis/-/-/-/-/-/-/-/-/-/-/-/-/0/0/20/1/1\", headers={\n",
    "        'User-agent': 'Mozilla/5.0 (X11; Ubuntu; Linux x86_64; rv:61.0) Gecko/20100101 Firefox/61.0'\n",
    "    })"
   ]
  },
  {
   "cell_type": "code",
   "execution_count": 3,
   "metadata": {},
   "outputs": [],
   "source": [
    "c = r.content"
   ]
  },
  {
   "cell_type": "code",
   "execution_count": 13,
   "metadata": {},
   "outputs": [
    {
     "name": "stdout",
     "output_type": "stream",
     "text": [
      "Escritório Matosinhos\n",
      "Escritório Porto Boavista\n",
      "Escritório junto ao Covelo\n",
      "Café nos Altos\n",
      "T1 lavra condominio fechado junto a praia\n",
      "T1 duplex Rua da Restauração\n",
      "T3 Matosinhos Centro\n",
      "T1 à Rotunda Boavista\n",
      "Loja com duas frentes com espaço exterior próxima Av. Boavista\n",
      "Escritório Montes Burgos\n",
      "Loja ou Armazém Porto Carolina Michaelis\n",
      "Loja Centro Matosinhos\n",
      "Armazém -Leça do Balio saida da Via Norte\n",
      "Arrendamento Armazém\n",
      "Escritório Zona Industrial Porto\n",
      "Terreno com 9950 m2 São Mamede de Infesta\n",
      "Excelente Moradia V5 Leça do Balio\n",
      "Escritório zona Industrial Porto\n",
      "Arrendamento Terreno\n",
      "Lugar de Garagem Lordelo do Ouro\n"
     ]
    }
   ],
   "source": [
    "soup = BeautifulSoup(c, \"html.parser\")\n",
    "all = soup.find_all(\"div\", {\"class\":\"row\"})\n",
    "l = []\n",
    "a = []\n",
    "b = []\n",
    "for i in all:\n",
    "    d = {}\n",
    "    price = soup.find_all(\"div\", {\"class\":\"price\"})\n",
    "    name = soup.find_all(\"div\", {\"class\":\"info\"})\n",
    "for prices in price:\n",
    "    prices = prices.text\n",
    "    prices = \" \".join(prices.split())\n",
    "    a.append(prices)\n",
    "    d[\"Preco\"] = a\n",
    "for names in name:\n",
    "    names = names.find_all(\"a\", {\"class\":\"trackevent\"})\n",
    "    names = names[0].text\n",
    "    b.append(names)\n",
    "l.append(d)"
   ]
  },
  {
   "cell_type": "code",
   "execution_count": 5,
   "metadata": {},
   "outputs": [
    {
     "name": "stdout",
     "output_type": "stream",
     "text": [
      "{'Preco': [u'Arrendamento 350 \\u20ac', u'Arrendamento 370 \\u20ac', u'Arrendamento 500 \\u20ac', u'Arrendamento 575 \\u20ac', u'Arrendamento para f\\xe9rias 650 \\u20ac', u'Arrendamento 650 \\u20ac', u'Arrendamento 850 \\u20ac', u'Arrendamento 1.200 \\u20ac', u'Arrendamento 1.450 \\u20ac', u'Arrendamento 1.500 \\u20ac', u'Arrendamento 1.550 \\u20ac', u'Arrendamento 1.800 \\u20ac', u'Arrendamento 2.150 \\u20ac', u'Arrendamento 2.500 \\u20ac', u'Arrendamento 2.550 \\u20ac', u'Arrendamento 3.200 \\u20ac', u'Arrendamento 3.200 \\u20ac', u'Arrendamento 4.350 \\u20ac', u'Arrendamento 5.000 \\u20ac', u'Venda 5.000 \\u20ac']}\n"
     ]
    },
    {
     "data": {
      "text/html": [
       "<div>\n",
       "<style scoped>\n",
       "    .dataframe tbody tr th:only-of-type {\n",
       "        vertical-align: middle;\n",
       "    }\n",
       "\n",
       "    .dataframe tbody tr th {\n",
       "        vertical-align: top;\n",
       "    }\n",
       "\n",
       "    .dataframe thead th {\n",
       "        text-align: right;\n",
       "    }\n",
       "</style>\n",
       "<table border=\"1\" class=\"dataframe\">\n",
       "  <thead>\n",
       "    <tr style=\"text-align: right;\">\n",
       "      <th></th>\n",
       "      <th>Preco</th>\n",
       "    </tr>\n",
       "  </thead>\n",
       "  <tbody>\n",
       "    <tr>\n",
       "      <th>0</th>\n",
       "      <td>Arrendamento 350 €</td>\n",
       "    </tr>\n",
       "    <tr>\n",
       "      <th>1</th>\n",
       "      <td>Arrendamento 370 €</td>\n",
       "    </tr>\n",
       "    <tr>\n",
       "      <th>2</th>\n",
       "      <td>Arrendamento 500 €</td>\n",
       "    </tr>\n",
       "    <tr>\n",
       "      <th>3</th>\n",
       "      <td>Arrendamento 575 €</td>\n",
       "    </tr>\n",
       "    <tr>\n",
       "      <th>4</th>\n",
       "      <td>Arrendamento para férias 650 €</td>\n",
       "    </tr>\n",
       "    <tr>\n",
       "      <th>5</th>\n",
       "      <td>Arrendamento 650 €</td>\n",
       "    </tr>\n",
       "    <tr>\n",
       "      <th>6</th>\n",
       "      <td>Arrendamento 850 €</td>\n",
       "    </tr>\n",
       "    <tr>\n",
       "      <th>7</th>\n",
       "      <td>Arrendamento 1.200 €</td>\n",
       "    </tr>\n",
       "    <tr>\n",
       "      <th>8</th>\n",
       "      <td>Arrendamento 1.450 €</td>\n",
       "    </tr>\n",
       "    <tr>\n",
       "      <th>9</th>\n",
       "      <td>Arrendamento 1.500 €</td>\n",
       "    </tr>\n",
       "    <tr>\n",
       "      <th>10</th>\n",
       "      <td>Arrendamento 1.550 €</td>\n",
       "    </tr>\n",
       "    <tr>\n",
       "      <th>11</th>\n",
       "      <td>Arrendamento 1.800 €</td>\n",
       "    </tr>\n",
       "    <tr>\n",
       "      <th>12</th>\n",
       "      <td>Arrendamento 2.150 €</td>\n",
       "    </tr>\n",
       "    <tr>\n",
       "      <th>13</th>\n",
       "      <td>Arrendamento 2.500 €</td>\n",
       "    </tr>\n",
       "    <tr>\n",
       "      <th>14</th>\n",
       "      <td>Arrendamento 2.550 €</td>\n",
       "    </tr>\n",
       "    <tr>\n",
       "      <th>15</th>\n",
       "      <td>Arrendamento 3.200 €</td>\n",
       "    </tr>\n",
       "    <tr>\n",
       "      <th>16</th>\n",
       "      <td>Arrendamento 3.200 €</td>\n",
       "    </tr>\n",
       "    <tr>\n",
       "      <th>17</th>\n",
       "      <td>Arrendamento 4.350 €</td>\n",
       "    </tr>\n",
       "    <tr>\n",
       "      <th>18</th>\n",
       "      <td>Arrendamento 5.000 €</td>\n",
       "    </tr>\n",
       "    <tr>\n",
       "      <th>19</th>\n",
       "      <td>Venda 5.000 €</td>\n",
       "    </tr>\n",
       "  </tbody>\n",
       "</table>\n",
       "</div>"
      ],
      "text/plain": [
       "                             Preco\n",
       "0               Arrendamento 350 €\n",
       "1               Arrendamento 370 €\n",
       "2               Arrendamento 500 €\n",
       "3               Arrendamento 575 €\n",
       "4   Arrendamento para férias 650 €\n",
       "5               Arrendamento 650 €\n",
       "6               Arrendamento 850 €\n",
       "7             Arrendamento 1.200 €\n",
       "8             Arrendamento 1.450 €\n",
       "9             Arrendamento 1.500 €\n",
       "10            Arrendamento 1.550 €\n",
       "11            Arrendamento 1.800 €\n",
       "12            Arrendamento 2.150 €\n",
       "13            Arrendamento 2.500 €\n",
       "14            Arrendamento 2.550 €\n",
       "15            Arrendamento 3.200 €\n",
       "16            Arrendamento 3.200 €\n",
       "17            Arrendamento 4.350 €\n",
       "18            Arrendamento 5.000 €\n",
       "19                   Venda 5.000 €"
      ]
     },
     "execution_count": 5,
     "metadata": {},
     "output_type": "execute_result"
    }
   ],
   "source": [
    "import pandas\n",
    "#print(l)\n",
    "for i in l:\n",
    "    print(i)\n",
    "    df = pandas.DataFrame(i)\n",
    "df"
   ]
  }
 ],
 "metadata": {
  "kernelspec": {
   "display_name": "Python 2",
   "language": "python",
   "name": "python2"
  },
  "language_info": {
   "codemirror_mode": {
    "name": "ipython",
    "version": 2
   },
   "file_extension": ".py",
   "mimetype": "text/x-python",
   "name": "python",
   "nbconvert_exporter": "python",
   "pygments_lexer": "ipython2",
   "version": "2.7.17"
  }
 },
 "nbformat": 4,
 "nbformat_minor": 2
}
